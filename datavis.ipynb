{
 "cells": [
  {
   "cell_type": "code",
   "execution_count": 12,
   "id": "8c9fc18e-18fd-4108-84f1-4cffaf2784c3",
   "metadata": {},
   "outputs": [],
   "source": [
    "import streamlit as st\n",
    "import pandas as pd"
   ]
  },
  {
   "cell_type": "code",
   "execution_count": 13,
   "id": "1bc886cb-ea46-424f-9297-10ba460ac3f4",
   "metadata": {},
   "outputs": [],
   "source": [
    "df = pd.read_csv('results/profiles/DeltaIOT/resultsDelta.csv')"
   ]
  },
  {
   "cell_type": "code",
   "execution_count": 15,
   "id": "40a51df1-56c2-4ab7-b0d8-742d5fdadcb4",
   "metadata": {},
   "outputs": [
    {
     "name": "stderr",
     "output_type": "stream",
     "text": [
      "2023-04-06 10:58:05.945 \n",
      "  \u001b[33m\u001b[1mWarning:\u001b[0m to view this Streamlit app on a browser, run it with the following\n",
      "  command:\n",
      "\n",
      "    streamlit run /Users/adamoentoro/opt/anaconda3/lib/python3.9/site-packages/ipykernel_launcher.py [ARGUMENTS]\n"
     ]
    }
   ],
   "source": [
    "st.write(df)"
   ]
  }
 ],
 "metadata": {
  "kernelspec": {
   "display_name": "Python 3 (ipykernel)",
   "language": "python",
   "name": "python3"
  },
  "language_info": {
   "codemirror_mode": {
    "name": "ipython",
    "version": 3
   },
   "file_extension": ".py",
   "mimetype": "text/x-python",
   "name": "python",
   "nbconvert_exporter": "python",
   "pygments_lexer": "ipython3",
   "version": "3.9.12"
  }
 },
 "nbformat": 4,
 "nbformat_minor": 5
}
